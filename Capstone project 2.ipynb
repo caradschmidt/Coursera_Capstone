{
    "nbformat_minor": 1, 
    "cells": [
        {
            "source": "##Coursera Applied Data Science course Capstone part II\n\nThis notebook contain the second assignment for the Applied Data Science Capstone course.  The three questions will be answered in this notebook.", 
            "cell_type": "markdown", 
            "metadata": {
                "collapsed": true
            }
        }, 
        {
            "source": "import requests\nimport lxml.html as lh\nimport pandas as pd", 
            "cell_type": "code", 
            "metadata": {}, 
            "outputs": [], 
            "execution_count": 10
        }, 
        {
            "source": "wikipedia_link='https://en.wikipedia.org/wiki/List_of_postal_codes_of_Canada:_M'", 
            "cell_type": "code", 
            "metadata": {}, 
            "outputs": [], 
            "execution_count": 11
        }, 
        {
            "source": "page = requests.get(wikipedia_link)", 
            "cell_type": "code", 
            "metadata": {}, 
            "outputs": [], 
            "execution_count": 12
        }, 
        {
            "source": "", 
            "cell_type": "code", 
            "metadata": {}, 
            "outputs": [], 
            "execution_count": null
        }, 
        {
            "source": "#Store the contents of the website under doc\ndoc = lh.fromstring(page.content)\n#Parse data that are stored between <tr>..</tr> of HTML\ntr_elements = doc.xpath('//tr')\n[len(T) for T in tr_elements[:12]]", 
            "cell_type": "code", 
            "metadata": {}, 
            "outputs": [
                {
                    "output_type": "execute_result", 
                    "data": {
                        "text/plain": "[3, 3, 3, 3, 3, 3, 3, 3, 3, 3, 3, 3]"
                    }, 
                    "execution_count": 25, 
                    "metadata": {}
                }
            ], 
            "execution_count": 25
        }, 
        {
            "source": "tr_elements = doc.xpath('//tr')\n#Create empty list\ncol=[]\ni=0\n#For each row, store each first element (header) and an empty list\nfor t in tr_elements[0]:\n    i+=1\n    name=t.text_content()\n    print (i,name)\n    col.append((name,[]))", 
            "cell_type": "code", 
            "metadata": {}, 
            "outputs": [
                {
                    "output_type": "stream", 
                    "name": "stdout", 
                    "text": "1 Postcode\n2 Borough\n3 Neighbourhood\n\n"
                }
            ], 
            "execution_count": 28
        }, 
        {
            "source": "#Since out first row is the header, data is stored on the second row onwards\nfor j in range(1,len(tr_elements)):\n    #T is our j'th row\n    T=tr_elements[j]\n    \n    #If row is not of size 10, the //tr data is not from our table \n    if len(T)!=3:\n        break\n    \n    #i is the index of our column\n    i=0\n    \n    #Iterate through each element of the row\n    for t in T.iterchildren():\n        data=t.text_content() \n        #Check if row is empty\n        if i>0:\n        #Convert any numerical value to integers\n            try:\n                data=int(data)\n            except:\n                pass\n        #Append the data to the empty list of the i'th column\n        col[i][1].append(data)\n        #Increment i for the next column\n        i+=1", 
            "cell_type": "code", 
            "metadata": {}, 
            "outputs": [], 
            "execution_count": 29
        }, 
        {
            "source": "Dict={title:column for (title,column) in col}\ndf=pd.DataFrame(Dict)\ndf = df.replace(r'\\\\n',' ', regex=True)", 
            "cell_type": "code", 
            "metadata": {}, 
            "outputs": [
                {
                    "output_type": "error", 
                    "evalue": "unexpected EOF while parsing (<ipython-input-32-c119ae305699>, line 3)", 
                    "traceback": [
                        "\u001b[0;36m  File \u001b[0;32m\"<ipython-input-32-c119ae305699>\"\u001b[0;36m, line \u001b[0;32m3\u001b[0m\n\u001b[0;31m    df = df.replace(r'\\\\n',' ', regex=True\u001b[0m\n\u001b[0m                                          ^\u001b[0m\n\u001b[0;31mSyntaxError\u001b[0m\u001b[0;31m:\u001b[0m unexpected EOF while parsing\n"
                    ], 
                    "ename": "SyntaxError"
                }
            ], 
            "execution_count": 32
        }, 
        {
            "source": "df.head()", 
            "cell_type": "code", 
            "metadata": {}, 
            "outputs": [
                {
                    "output_type": "execute_result", 
                    "data": {
                        "text/plain": "            Borough     Neighbourhood\\n Postcode\n0      Not assigned      Not assigned\\n      M1A\n1      Not assigned      Not assigned\\n      M2A\n2        North York         Parkwoods\\n      M3A\n3        North York  Victoria Village\\n      M4A\n4  Downtown Toronto      Harbourfront\\n      M5A", 
                        "text/html": "<div>\n<style scoped>\n    .dataframe tbody tr th:only-of-type {\n        vertical-align: middle;\n    }\n\n    .dataframe tbody tr th {\n        vertical-align: top;\n    }\n\n    .dataframe thead th {\n        text-align: right;\n    }\n</style>\n<table border=\"1\" class=\"dataframe\">\n  <thead>\n    <tr style=\"text-align: right;\">\n      <th></th>\n      <th>Borough</th>\n      <th>Neighbourhood</th>\n      <th>Postcode</th>\n    </tr>\n  </thead>\n  <tbody>\n    <tr>\n      <th>0</th>\n      <td>Not assigned</td>\n      <td>Not assigned\\n</td>\n      <td>M1A</td>\n    </tr>\n    <tr>\n      <th>1</th>\n      <td>Not assigned</td>\n      <td>Not assigned\\n</td>\n      <td>M2A</td>\n    </tr>\n    <tr>\n      <th>2</th>\n      <td>North York</td>\n      <td>Parkwoods\\n</td>\n      <td>M3A</td>\n    </tr>\n    <tr>\n      <th>3</th>\n      <td>North York</td>\n      <td>Victoria Village\\n</td>\n      <td>M4A</td>\n    </tr>\n    <tr>\n      <th>4</th>\n      <td>Downtown Toronto</td>\n      <td>Harbourfront\\n</td>\n      <td>M5A</td>\n    </tr>\n  </tbody>\n</table>\n</div>"
                    }, 
                    "execution_count": 31, 
                    "metadata": {}
                }
            ], 
            "execution_count": 31
        }, 
        {
            "source": "", 
            "cell_type": "code", 
            "metadata": {}, 
            "outputs": [], 
            "execution_count": null
        }
    ], 
    "metadata": {
        "kernelspec": {
            "display_name": "Python 3.5", 
            "name": "python3", 
            "language": "python"
        }, 
        "language_info": {
            "mimetype": "text/x-python", 
            "nbconvert_exporter": "python", 
            "version": "3.5.5", 
            "name": "python", 
            "pygments_lexer": "ipython3", 
            "file_extension": ".py", 
            "codemirror_mode": {
                "version": 3, 
                "name": "ipython"
            }
        }
    }, 
    "nbformat": 4
}