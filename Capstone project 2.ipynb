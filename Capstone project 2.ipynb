{
    "nbformat_minor": 1, 
    "cells": [
        {
            "source": "##Coursera Applied Data Science course Capstone part II\n\nThis notebook contain the second assignment for the Applied Data Science Capstone course.  The three questions will be answered in this notebook.", 
            "cell_type": "markdown", 
            "metadata": {
                "collapsed": true
            }
        }, 
        {
            "execution_count": 9, 
            "cell_type": "code", 
            "metadata": {}, 
            "outputs": [], 
            "source": "import requests\nimport pandas as pd\nimport numpy as np\nimport lxml.html as lh"
        }, 
        {
            "execution_count": 10, 
            "cell_type": "code", 
            "metadata": {}, 
            "outputs": [], 
            "source": "wikipedia_link='https://en.wikipedia.org/wiki/List_of_postal_codes_of_Canada:_M'"
        }, 
        {
            "execution_count": 11, 
            "cell_type": "code", 
            "metadata": {}, 
            "outputs": [], 
            "source": "page = requests.get(wikipedia_link)"
        }, 
        {
            "execution_count": 12, 
            "cell_type": "code", 
            "metadata": {}, 
            "outputs": [
                {
                    "execution_count": 12, 
                    "metadata": {}, 
                    "data": {
                        "text/plain": "[3, 3, 3, 3, 3, 3, 3, 3, 3, 3, 3, 3]"
                    }, 
                    "output_type": "execute_result"
                }
            ], 
            "source": "#Store the contents of the website under doc\ndoc = lh.fromstring(page.content)\n#Parse data that are stored between <tr>..</tr> of HTML\ntr_elements = doc.xpath('//tr')\n[len(T) for T in tr_elements[:12]]"
        }, 
        {
            "execution_count": 13, 
            "cell_type": "code", 
            "metadata": {}, 
            "outputs": [
                {
                    "output_type": "stream", 
                    "name": "stdout", 
                    "text": "1 Postcode\n2 Borough\n3 Neighbourhood\n\n"
                }
            ], 
            "source": "tr_elements = doc.xpath('//tr')\n#Create empty list\ncol=[]\ni=0\n#For each row, store each first element (header) and an empty list\nfor t in tr_elements[0]:\n    i+=1\n    name=t.text_content()\n    print (i,name)\n    col.append((name,[]))"
        }, 
        {
            "execution_count": 14, 
            "cell_type": "code", 
            "metadata": {}, 
            "outputs": [], 
            "source": "#Since out first row is the header, data is stored on the second row onwards\nfor j in range(1,len(tr_elements)):\n    #T is our j'th row\n    T=tr_elements[j]\n    \n    #If row is not of size 3, the //tr data is not from our table \n    if len(T)!=3:\n        break\n    \n    #i is the index of our column\n    i=0\n    \n    #Iterate through each element of the row\n    for t in T.iterchildren():\n        data=t.text_content() \n        #Check if row is empty\n        if i>0:\n        #Convert any numerical value to integers\n            try:\n                data=int(data)\n            except:\n                pass\n        #Append the data to the empty list of the i'th column\n        col[i][1].append(data)\n        #Increment i for the next column\n        i+=1"
        }, 
        {
            "execution_count": 15, 
            "cell_type": "code", 
            "metadata": {}, 
            "outputs": [], 
            "source": "Dict={title:column for (title,column) in col}\ndf=pd.DataFrame(Dict)\ndf = df.replace('\\n','', regex=True)\ndf.columns = ['Borough', 'Neighbourhood', 'Postcode']\ndf.drop(df[df['Borough']==\"Not assigned\"].index,axis=0, inplace=True)"
        }, 
        {
            "execution_count": 16, 
            "cell_type": "code", 
            "metadata": {}, 
            "outputs": [
                {
                    "execution_count": 16, 
                    "metadata": {}, 
                    "data": {
                        "text/html": "<div>\n<style scoped>\n    .dataframe tbody tr th:only-of-type {\n        vertical-align: middle;\n    }\n\n    .dataframe tbody tr th {\n        vertical-align: top;\n    }\n\n    .dataframe thead th {\n        text-align: right;\n    }\n</style>\n<table border=\"1\" class=\"dataframe\">\n  <thead>\n    <tr style=\"text-align: right;\">\n      <th></th>\n      <th>Borough</th>\n      <th>Neighbourhood</th>\n      <th>Postcode</th>\n    </tr>\n  </thead>\n  <tbody>\n    <tr>\n      <th>8</th>\n      <td>Queen's Park</td>\n      <td>Not assigned</td>\n      <td>M7A</td>\n    </tr>\n  </tbody>\n</table>\n</div>", 
                        "text/plain": "        Borough Neighbourhood Postcode\n8  Queen's Park  Not assigned      M7A"
                    }, 
                    "output_type": "execute_result"
                }
            ], 
            "source": "df.loc[df['Neighbourhood'] == 'Not assigned']"
        }, 
        {
            "execution_count": 17, 
            "cell_type": "code", 
            "metadata": {}, 
            "outputs": [
                {
                    "execution_count": 17, 
                    "metadata": {}, 
                    "data": {
                        "text/html": "<div>\n<style scoped>\n    .dataframe tbody tr th:only-of-type {\n        vertical-align: middle;\n    }\n\n    .dataframe tbody tr th {\n        vertical-align: top;\n    }\n\n    .dataframe thead th {\n        text-align: right;\n    }\n</style>\n<table border=\"1\" class=\"dataframe\">\n  <thead>\n    <tr style=\"text-align: right;\">\n      <th></th>\n      <th>Borough</th>\n      <th>Neighbourhood</th>\n      <th>Postcode</th>\n    </tr>\n  </thead>\n  <tbody>\n    <tr>\n      <th>2</th>\n      <td>North York</td>\n      <td>Parkwoods</td>\n      <td>M3A</td>\n    </tr>\n    <tr>\n      <th>3</th>\n      <td>North York</td>\n      <td>Victoria Village</td>\n      <td>M4A</td>\n    </tr>\n    <tr>\n      <th>4</th>\n      <td>Downtown Toronto</td>\n      <td>Harbourfront</td>\n      <td>M5A</td>\n    </tr>\n    <tr>\n      <th>5</th>\n      <td>Downtown Toronto</td>\n      <td>Regent Park</td>\n      <td>M5A</td>\n    </tr>\n    <tr>\n      <th>6</th>\n      <td>North York</td>\n      <td>Lawrence Heights</td>\n      <td>M6A</td>\n    </tr>\n    <tr>\n      <th>7</th>\n      <td>North York</td>\n      <td>Lawrence Manor</td>\n      <td>M6A</td>\n    </tr>\n    <tr>\n      <th>8</th>\n      <td>Queen's Park</td>\n      <td>Queen's Park</td>\n      <td>M7A</td>\n    </tr>\n    <tr>\n      <th>10</th>\n      <td>Etobicoke</td>\n      <td>Islington Avenue</td>\n      <td>M9A</td>\n    </tr>\n    <tr>\n      <th>11</th>\n      <td>Scarborough</td>\n      <td>Rouge</td>\n      <td>M1B</td>\n    </tr>\n    <tr>\n      <th>12</th>\n      <td>Scarborough</td>\n      <td>Malvern</td>\n      <td>M1B</td>\n    </tr>\n    <tr>\n      <th>14</th>\n      <td>North York</td>\n      <td>Don Mills North</td>\n      <td>M3B</td>\n    </tr>\n    <tr>\n      <th>15</th>\n      <td>East York</td>\n      <td>Woodbine Gardens</td>\n      <td>M4B</td>\n    </tr>\n    <tr>\n      <th>16</th>\n      <td>East York</td>\n      <td>Parkview Hill</td>\n      <td>M4B</td>\n    </tr>\n    <tr>\n      <th>17</th>\n      <td>Downtown Toronto</td>\n      <td>Ryerson</td>\n      <td>M5B</td>\n    </tr>\n    <tr>\n      <th>18</th>\n      <td>Downtown Toronto</td>\n      <td>Garden District</td>\n      <td>M5B</td>\n    </tr>\n    <tr>\n      <th>19</th>\n      <td>North York</td>\n      <td>Glencairn</td>\n      <td>M6B</td>\n    </tr>\n    <tr>\n      <th>22</th>\n      <td>Etobicoke</td>\n      <td>Cloverdale</td>\n      <td>M9B</td>\n    </tr>\n    <tr>\n      <th>23</th>\n      <td>Etobicoke</td>\n      <td>Islington</td>\n      <td>M9B</td>\n    </tr>\n    <tr>\n      <th>24</th>\n      <td>Etobicoke</td>\n      <td>Martin Grove</td>\n      <td>M9B</td>\n    </tr>\n    <tr>\n      <th>25</th>\n      <td>Etobicoke</td>\n      <td>Princess Gardens</td>\n      <td>M9B</td>\n    </tr>\n    <tr>\n      <th>26</th>\n      <td>Etobicoke</td>\n      <td>West Deane Park</td>\n      <td>M9B</td>\n    </tr>\n    <tr>\n      <th>27</th>\n      <td>Scarborough</td>\n      <td>Highland Creek</td>\n      <td>M1C</td>\n    </tr>\n    <tr>\n      <th>28</th>\n      <td>Scarborough</td>\n      <td>Rouge Hill</td>\n      <td>M1C</td>\n    </tr>\n    <tr>\n      <th>29</th>\n      <td>Scarborough</td>\n      <td>Port Union</td>\n      <td>M1C</td>\n    </tr>\n    <tr>\n      <th>31</th>\n      <td>North York</td>\n      <td>Flemingdon Park</td>\n      <td>M3C</td>\n    </tr>\n    <tr>\n      <th>32</th>\n      <td>North York</td>\n      <td>Don Mills South</td>\n      <td>M3C</td>\n    </tr>\n    <tr>\n      <th>33</th>\n      <td>East York</td>\n      <td>Woodbine Heights</td>\n      <td>M4C</td>\n    </tr>\n    <tr>\n      <th>34</th>\n      <td>Downtown Toronto</td>\n      <td>St. James Town</td>\n      <td>M5C</td>\n    </tr>\n    <tr>\n      <th>35</th>\n      <td>York</td>\n      <td>Humewood-Cedarvale</td>\n      <td>M6C</td>\n    </tr>\n    <tr>\n      <th>38</th>\n      <td>Etobicoke</td>\n      <td>Bloordale Gardens</td>\n      <td>M9C</td>\n    </tr>\n    <tr>\n      <th>...</th>\n      <td>...</td>\n      <td>...</td>\n      <td>...</td>\n    </tr>\n    <tr>\n      <th>235</th>\n      <td>Etobicoke</td>\n      <td>Thistletown</td>\n      <td>M9V</td>\n    </tr>\n    <tr>\n      <th>236</th>\n      <td>Scarborough</td>\n      <td>L'Amoreaux West</td>\n      <td>M1W</td>\n    </tr>\n    <tr>\n      <th>239</th>\n      <td>Downtown Toronto</td>\n      <td>Rosedale</td>\n      <td>M4W</td>\n    </tr>\n    <tr>\n      <th>240</th>\n      <td>Downtown Toronto</td>\n      <td>Stn A PO Boxes 25 The Esplanade</td>\n      <td>M5W</td>\n    </tr>\n    <tr>\n      <th>243</th>\n      <td>Etobicoke</td>\n      <td>Alderwood</td>\n      <td>M8W</td>\n    </tr>\n    <tr>\n      <th>244</th>\n      <td>Etobicoke</td>\n      <td>Long Branch</td>\n      <td>M8W</td>\n    </tr>\n    <tr>\n      <th>245</th>\n      <td>Etobicoke</td>\n      <td>Northwest</td>\n      <td>M9W</td>\n    </tr>\n    <tr>\n      <th>246</th>\n      <td>Scarborough</td>\n      <td>Upper Rouge</td>\n      <td>M1X</td>\n    </tr>\n    <tr>\n      <th>249</th>\n      <td>Downtown Toronto</td>\n      <td>Cabbagetown</td>\n      <td>M4X</td>\n    </tr>\n    <tr>\n      <th>250</th>\n      <td>Downtown Toronto</td>\n      <td>St. James Town</td>\n      <td>M4X</td>\n    </tr>\n    <tr>\n      <th>251</th>\n      <td>Downtown Toronto</td>\n      <td>First Canadian Place</td>\n      <td>M5X</td>\n    </tr>\n    <tr>\n      <th>252</th>\n      <td>Downtown Toronto</td>\n      <td>Underground city</td>\n      <td>M5X</td>\n    </tr>\n    <tr>\n      <th>255</th>\n      <td>Etobicoke</td>\n      <td>The Kingsway</td>\n      <td>M8X</td>\n    </tr>\n    <tr>\n      <th>256</th>\n      <td>Etobicoke</td>\n      <td>Montgomery Road</td>\n      <td>M8X</td>\n    </tr>\n    <tr>\n      <th>257</th>\n      <td>Etobicoke</td>\n      <td>Old Mill North</td>\n      <td>M8X</td>\n    </tr>\n    <tr>\n      <th>262</th>\n      <td>Downtown Toronto</td>\n      <td>Church and Wellesley</td>\n      <td>M4Y</td>\n    </tr>\n    <tr>\n      <th>265</th>\n      <td>East Toronto</td>\n      <td>Business Reply Mail Processing Centre 969 Eastern</td>\n      <td>M7Y</td>\n    </tr>\n    <tr>\n      <th>266</th>\n      <td>Etobicoke</td>\n      <td>Humber Bay</td>\n      <td>M8Y</td>\n    </tr>\n    <tr>\n      <th>267</th>\n      <td>Etobicoke</td>\n      <td>King's Mill Park</td>\n      <td>M8Y</td>\n    </tr>\n    <tr>\n      <th>268</th>\n      <td>Etobicoke</td>\n      <td>Kingsway Park South East</td>\n      <td>M8Y</td>\n    </tr>\n    <tr>\n      <th>269</th>\n      <td>Etobicoke</td>\n      <td>Mimico NE</td>\n      <td>M8Y</td>\n    </tr>\n    <tr>\n      <th>270</th>\n      <td>Etobicoke</td>\n      <td>Old Mill South</td>\n      <td>M8Y</td>\n    </tr>\n    <tr>\n      <th>271</th>\n      <td>Etobicoke</td>\n      <td>The Queensway East</td>\n      <td>M8Y</td>\n    </tr>\n    <tr>\n      <th>272</th>\n      <td>Etobicoke</td>\n      <td>Royal York South East</td>\n      <td>M8Y</td>\n    </tr>\n    <tr>\n      <th>273</th>\n      <td>Etobicoke</td>\n      <td>Sunnylea</td>\n      <td>M8Y</td>\n    </tr>\n    <tr>\n      <th>282</th>\n      <td>Etobicoke</td>\n      <td>Kingsway Park South West</td>\n      <td>M8Z</td>\n    </tr>\n    <tr>\n      <th>283</th>\n      <td>Etobicoke</td>\n      <td>Mimico NW</td>\n      <td>M8Z</td>\n    </tr>\n    <tr>\n      <th>284</th>\n      <td>Etobicoke</td>\n      <td>The Queensway West</td>\n      <td>M8Z</td>\n    </tr>\n    <tr>\n      <th>285</th>\n      <td>Etobicoke</td>\n      <td>Royal York South West</td>\n      <td>M8Z</td>\n    </tr>\n    <tr>\n      <th>286</th>\n      <td>Etobicoke</td>\n      <td>South of Bloor</td>\n      <td>M8Z</td>\n    </tr>\n  </tbody>\n</table>\n<p>211 rows \u00d7 3 columns</p>\n</div>", 
                        "text/plain": "              Borough                                      Neighbourhood  \\\n2          North York                                          Parkwoods   \n3          North York                                   Victoria Village   \n4    Downtown Toronto                                       Harbourfront   \n5    Downtown Toronto                                        Regent Park   \n6          North York                                   Lawrence Heights   \n7          North York                                     Lawrence Manor   \n8        Queen's Park                                       Queen's Park   \n10          Etobicoke                                   Islington Avenue   \n11        Scarborough                                              Rouge   \n12        Scarborough                                            Malvern   \n14         North York                                    Don Mills North   \n15          East York                                   Woodbine Gardens   \n16          East York                                      Parkview Hill   \n17   Downtown Toronto                                            Ryerson   \n18   Downtown Toronto                                    Garden District   \n19         North York                                          Glencairn   \n22          Etobicoke                                         Cloverdale   \n23          Etobicoke                                          Islington   \n24          Etobicoke                                       Martin Grove   \n25          Etobicoke                                   Princess Gardens   \n26          Etobicoke                                    West Deane Park   \n27        Scarborough                                     Highland Creek   \n28        Scarborough                                         Rouge Hill   \n29        Scarborough                                         Port Union   \n31         North York                                    Flemingdon Park   \n32         North York                                    Don Mills South   \n33          East York                                   Woodbine Heights   \n34   Downtown Toronto                                     St. James Town   \n35               York                                 Humewood-Cedarvale   \n38          Etobicoke                                  Bloordale Gardens   \n..                ...                                                ...   \n235         Etobicoke                                        Thistletown   \n236       Scarborough                                    L'Amoreaux West   \n239  Downtown Toronto                                           Rosedale   \n240  Downtown Toronto                    Stn A PO Boxes 25 The Esplanade   \n243         Etobicoke                                          Alderwood   \n244         Etobicoke                                        Long Branch   \n245         Etobicoke                                          Northwest   \n246       Scarborough                                        Upper Rouge   \n249  Downtown Toronto                                        Cabbagetown   \n250  Downtown Toronto                                     St. James Town   \n251  Downtown Toronto                               First Canadian Place   \n252  Downtown Toronto                                   Underground city   \n255         Etobicoke                                       The Kingsway   \n256         Etobicoke                                    Montgomery Road   \n257         Etobicoke                                     Old Mill North   \n262  Downtown Toronto                               Church and Wellesley   \n265      East Toronto  Business Reply Mail Processing Centre 969 Eastern   \n266         Etobicoke                                         Humber Bay   \n267         Etobicoke                                   King's Mill Park   \n268         Etobicoke                           Kingsway Park South East   \n269         Etobicoke                                          Mimico NE   \n270         Etobicoke                                     Old Mill South   \n271         Etobicoke                                 The Queensway East   \n272         Etobicoke                              Royal York South East   \n273         Etobicoke                                           Sunnylea   \n282         Etobicoke                           Kingsway Park South West   \n283         Etobicoke                                          Mimico NW   \n284         Etobicoke                                 The Queensway West   \n285         Etobicoke                              Royal York South West   \n286         Etobicoke                                     South of Bloor   \n\n    Postcode  \n2        M3A  \n3        M4A  \n4        M5A  \n5        M5A  \n6        M6A  \n7        M6A  \n8        M7A  \n10       M9A  \n11       M1B  \n12       M1B  \n14       M3B  \n15       M4B  \n16       M4B  \n17       M5B  \n18       M5B  \n19       M6B  \n22       M9B  \n23       M9B  \n24       M9B  \n25       M9B  \n26       M9B  \n27       M1C  \n28       M1C  \n29       M1C  \n31       M3C  \n32       M3C  \n33       M4C  \n34       M5C  \n35       M6C  \n38       M9C  \n..       ...  \n235      M9V  \n236      M1W  \n239      M4W  \n240      M5W  \n243      M8W  \n244      M8W  \n245      M9W  \n246      M1X  \n249      M4X  \n250      M4X  \n251      M5X  \n252      M5X  \n255      M8X  \n256      M8X  \n257      M8X  \n262      M4Y  \n265      M7Y  \n266      M8Y  \n267      M8Y  \n268      M8Y  \n269      M8Y  \n270      M8Y  \n271      M8Y  \n272      M8Y  \n273      M8Y  \n282      M8Z  \n283      M8Z  \n284      M8Z  \n285      M8Z  \n286      M8Z  \n\n[211 rows x 3 columns]"
                    }, 
                    "output_type": "execute_result"
                }
            ], 
            "source": "df.replace(to_replace='Not assigned', value='Queen\\'s Park', regex=True)"
        }, 
        {
            "execution_count": 18, 
            "cell_type": "code", 
            "metadata": {}, 
            "outputs": [
                {
                    "execution_count": 18, 
                    "metadata": {}, 
                    "data": {
                        "text/html": "<div>\n<style scoped>\n    .dataframe tbody tr th:only-of-type {\n        vertical-align: middle;\n    }\n\n    .dataframe tbody tr th {\n        vertical-align: top;\n    }\n\n    .dataframe thead th {\n        text-align: right;\n    }\n</style>\n<table border=\"1\" class=\"dataframe\">\n  <thead>\n    <tr style=\"text-align: right;\">\n      <th></th>\n      <th></th>\n      <th>Neighbourhood</th>\n    </tr>\n    <tr>\n      <th>Postcode</th>\n      <th>Borough</th>\n      <th></th>\n    </tr>\n  </thead>\n  <tbody>\n    <tr>\n      <th>M3A</th>\n      <th>North York</th>\n      <td>Parkwoods</td>\n    </tr>\n    <tr>\n      <th>M4A</th>\n      <th>North York</th>\n      <td>Victoria Village</td>\n    </tr>\n    <tr>\n      <th>M5A</th>\n      <th>Downtown Toronto</th>\n      <td>Harbourfront, Regent Park</td>\n    </tr>\n    <tr>\n      <th>M6A</th>\n      <th>North York</th>\n      <td>Lawrence Heights, Lawrence Manor</td>\n    </tr>\n    <tr>\n      <th>M7A</th>\n      <th>Queen's Park</th>\n      <td>Not assigned</td>\n    </tr>\n  </tbody>\n</table>\n</div>", 
                        "text/plain": "                                              Neighbourhood\nPostcode Borough                                           \nM3A      North York                               Parkwoods\nM4A      North York                        Victoria Village\nM5A      Downtown Toronto         Harbourfront, Regent Park\nM6A      North York        Lawrence Heights, Lawrence Manor\nM7A      Queen's Park                          Not assigned"
                    }, 
                    "output_type": "execute_result"
                }
            ], 
            "source": "df1=df.groupby(['Postcode','Borough'], sort = False).agg(lambda x: ', '.join(x))\ndf1.head()"
        }, 
        {
            "execution_count": 19, 
            "cell_type": "code", 
            "metadata": {}, 
            "outputs": [], 
            "source": "df1 = df1.reset_index()"
        }, 
        {
            "execution_count": 20, 
            "cell_type": "code", 
            "metadata": {}, 
            "outputs": [
                {
                    "execution_count": 20, 
                    "metadata": {}, 
                    "data": {
                        "text/html": "<div>\n<style scoped>\n    .dataframe tbody tr th:only-of-type {\n        vertical-align: middle;\n    }\n\n    .dataframe tbody tr th {\n        vertical-align: top;\n    }\n\n    .dataframe thead th {\n        text-align: right;\n    }\n</style>\n<table border=\"1\" class=\"dataframe\">\n  <thead>\n    <tr style=\"text-align: right;\">\n      <th></th>\n      <th>Postcode</th>\n      <th>Borough</th>\n      <th>Neighbourhood</th>\n    </tr>\n  </thead>\n  <tbody>\n    <tr>\n      <th>0</th>\n      <td>M3A</td>\n      <td>North York</td>\n      <td>Parkwoods</td>\n    </tr>\n    <tr>\n      <th>1</th>\n      <td>M4A</td>\n      <td>North York</td>\n      <td>Victoria Village</td>\n    </tr>\n    <tr>\n      <th>2</th>\n      <td>M5A</td>\n      <td>Downtown Toronto</td>\n      <td>Harbourfront, Regent Park</td>\n    </tr>\n    <tr>\n      <th>3</th>\n      <td>M6A</td>\n      <td>North York</td>\n      <td>Lawrence Heights, Lawrence Manor</td>\n    </tr>\n    <tr>\n      <th>4</th>\n      <td>M7A</td>\n      <td>Queen's Park</td>\n      <td>Not assigned</td>\n    </tr>\n    <tr>\n      <th>5</th>\n      <td>M9A</td>\n      <td>Etobicoke</td>\n      <td>Islington Avenue</td>\n    </tr>\n    <tr>\n      <th>6</th>\n      <td>M1B</td>\n      <td>Scarborough</td>\n      <td>Rouge, Malvern</td>\n    </tr>\n    <tr>\n      <th>7</th>\n      <td>M3B</td>\n      <td>North York</td>\n      <td>Don Mills North</td>\n    </tr>\n    <tr>\n      <th>8</th>\n      <td>M4B</td>\n      <td>East York</td>\n      <td>Woodbine Gardens, Parkview Hill</td>\n    </tr>\n    <tr>\n      <th>9</th>\n      <td>M5B</td>\n      <td>Downtown Toronto</td>\n      <td>Ryerson, Garden District</td>\n    </tr>\n    <tr>\n      <th>10</th>\n      <td>M6B</td>\n      <td>North York</td>\n      <td>Glencairn</td>\n    </tr>\n    <tr>\n      <th>11</th>\n      <td>M9B</td>\n      <td>Etobicoke</td>\n      <td>Cloverdale, Islington, Martin Grove, Princess ...</td>\n    </tr>\n    <tr>\n      <th>12</th>\n      <td>M1C</td>\n      <td>Scarborough</td>\n      <td>Highland Creek, Rouge Hill, Port Union</td>\n    </tr>\n    <tr>\n      <th>13</th>\n      <td>M3C</td>\n      <td>North York</td>\n      <td>Flemingdon Park, Don Mills South</td>\n    </tr>\n    <tr>\n      <th>14</th>\n      <td>M4C</td>\n      <td>East York</td>\n      <td>Woodbine Heights</td>\n    </tr>\n    <tr>\n      <th>15</th>\n      <td>M5C</td>\n      <td>Downtown Toronto</td>\n      <td>St. James Town</td>\n    </tr>\n    <tr>\n      <th>16</th>\n      <td>M6C</td>\n      <td>York</td>\n      <td>Humewood-Cedarvale</td>\n    </tr>\n    <tr>\n      <th>17</th>\n      <td>M9C</td>\n      <td>Etobicoke</td>\n      <td>Bloordale Gardens, Eringate, Markland Wood, Ol...</td>\n    </tr>\n    <tr>\n      <th>18</th>\n      <td>M1E</td>\n      <td>Scarborough</td>\n      <td>Guildwood, Morningside, West Hill</td>\n    </tr>\n    <tr>\n      <th>19</th>\n      <td>M4E</td>\n      <td>East Toronto</td>\n      <td>The Beaches</td>\n    </tr>\n    <tr>\n      <th>20</th>\n      <td>M5E</td>\n      <td>Downtown Toronto</td>\n      <td>Berczy Park</td>\n    </tr>\n    <tr>\n      <th>21</th>\n      <td>M6E</td>\n      <td>York</td>\n      <td>Caledonia-Fairbanks</td>\n    </tr>\n    <tr>\n      <th>22</th>\n      <td>M1G</td>\n      <td>Scarborough</td>\n      <td>Woburn</td>\n    </tr>\n    <tr>\n      <th>23</th>\n      <td>M4G</td>\n      <td>East York</td>\n      <td>Leaside</td>\n    </tr>\n    <tr>\n      <th>24</th>\n      <td>M5G</td>\n      <td>Downtown Toronto</td>\n      <td>Central Bay Street</td>\n    </tr>\n    <tr>\n      <th>25</th>\n      <td>M6G</td>\n      <td>Downtown Toronto</td>\n      <td>Christie</td>\n    </tr>\n    <tr>\n      <th>26</th>\n      <td>M1H</td>\n      <td>Scarborough</td>\n      <td>Cedarbrae</td>\n    </tr>\n    <tr>\n      <th>27</th>\n      <td>M2H</td>\n      <td>North York</td>\n      <td>Hillcrest Village</td>\n    </tr>\n    <tr>\n      <th>28</th>\n      <td>M3H</td>\n      <td>North York</td>\n      <td>Bathurst Manor, Downsview North, Wilson Heights</td>\n    </tr>\n    <tr>\n      <th>29</th>\n      <td>M4H</td>\n      <td>East York</td>\n      <td>Thorncliffe Park</td>\n    </tr>\n    <tr>\n      <th>...</th>\n      <td>...</td>\n      <td>...</td>\n      <td>...</td>\n    </tr>\n    <tr>\n      <th>73</th>\n      <td>M4R</td>\n      <td>Central Toronto</td>\n      <td>North Toronto West</td>\n    </tr>\n    <tr>\n      <th>74</th>\n      <td>M5R</td>\n      <td>Central Toronto</td>\n      <td>The Annex, North Midtown, Yorkville</td>\n    </tr>\n    <tr>\n      <th>75</th>\n      <td>M6R</td>\n      <td>West Toronto</td>\n      <td>Parkdale, Roncesvalles</td>\n    </tr>\n    <tr>\n      <th>76</th>\n      <td>M7R</td>\n      <td>Mississauga</td>\n      <td>Canada Post Gateway Processing Centre</td>\n    </tr>\n    <tr>\n      <th>77</th>\n      <td>M9R</td>\n      <td>Etobicoke</td>\n      <td>Kingsview Village, Martin Grove Gardens, Richv...</td>\n    </tr>\n    <tr>\n      <th>78</th>\n      <td>M1S</td>\n      <td>Scarborough</td>\n      <td>Agincourt</td>\n    </tr>\n    <tr>\n      <th>79</th>\n      <td>M4S</td>\n      <td>Central Toronto</td>\n      <td>Davisville</td>\n    </tr>\n    <tr>\n      <th>80</th>\n      <td>M5S</td>\n      <td>Downtown Toronto</td>\n      <td>Harbord, University of Toronto</td>\n    </tr>\n    <tr>\n      <th>81</th>\n      <td>M6S</td>\n      <td>West Toronto</td>\n      <td>Runnymede, Swansea</td>\n    </tr>\n    <tr>\n      <th>82</th>\n      <td>M1T</td>\n      <td>Scarborough</td>\n      <td>Clarks Corners, Sullivan, Tam O'Shanter</td>\n    </tr>\n    <tr>\n      <th>83</th>\n      <td>M4T</td>\n      <td>Central Toronto</td>\n      <td>Moore Park, Summerhill East</td>\n    </tr>\n    <tr>\n      <th>84</th>\n      <td>M5T</td>\n      <td>Downtown Toronto</td>\n      <td>Chinatown, Grange Park, Kensington Market</td>\n    </tr>\n    <tr>\n      <th>85</th>\n      <td>M1V</td>\n      <td>Scarborough</td>\n      <td>Agincourt North, L'Amoreaux East, Milliken, St...</td>\n    </tr>\n    <tr>\n      <th>86</th>\n      <td>M4V</td>\n      <td>Central Toronto</td>\n      <td>Deer Park, Forest Hill SE, Rathnelly, South Hi...</td>\n    </tr>\n    <tr>\n      <th>87</th>\n      <td>M5V</td>\n      <td>Downtown Toronto</td>\n      <td>CN Tower, Bathurst Quay, Island airport, Harbo...</td>\n    </tr>\n    <tr>\n      <th>88</th>\n      <td>M8V</td>\n      <td>Etobicoke</td>\n      <td>Humber Bay Shores, Mimico South, New Toronto</td>\n    </tr>\n    <tr>\n      <th>89</th>\n      <td>M9V</td>\n      <td>Etobicoke</td>\n      <td>Albion Gardens, Beaumond Heights, Humbergate, ...</td>\n    </tr>\n    <tr>\n      <th>90</th>\n      <td>M1W</td>\n      <td>Scarborough</td>\n      <td>L'Amoreaux West</td>\n    </tr>\n    <tr>\n      <th>91</th>\n      <td>M4W</td>\n      <td>Downtown Toronto</td>\n      <td>Rosedale</td>\n    </tr>\n    <tr>\n      <th>92</th>\n      <td>M5W</td>\n      <td>Downtown Toronto</td>\n      <td>Stn A PO Boxes 25 The Esplanade</td>\n    </tr>\n    <tr>\n      <th>93</th>\n      <td>M8W</td>\n      <td>Etobicoke</td>\n      <td>Alderwood, Long Branch</td>\n    </tr>\n    <tr>\n      <th>94</th>\n      <td>M9W</td>\n      <td>Etobicoke</td>\n      <td>Northwest</td>\n    </tr>\n    <tr>\n      <th>95</th>\n      <td>M1X</td>\n      <td>Scarborough</td>\n      <td>Upper Rouge</td>\n    </tr>\n    <tr>\n      <th>96</th>\n      <td>M4X</td>\n      <td>Downtown Toronto</td>\n      <td>Cabbagetown, St. James Town</td>\n    </tr>\n    <tr>\n      <th>97</th>\n      <td>M5X</td>\n      <td>Downtown Toronto</td>\n      <td>First Canadian Place, Underground city</td>\n    </tr>\n    <tr>\n      <th>98</th>\n      <td>M8X</td>\n      <td>Etobicoke</td>\n      <td>The Kingsway, Montgomery Road, Old Mill North</td>\n    </tr>\n    <tr>\n      <th>99</th>\n      <td>M4Y</td>\n      <td>Downtown Toronto</td>\n      <td>Church and Wellesley</td>\n    </tr>\n    <tr>\n      <th>100</th>\n      <td>M7Y</td>\n      <td>East Toronto</td>\n      <td>Business Reply Mail Processing Centre 969 Eastern</td>\n    </tr>\n    <tr>\n      <th>101</th>\n      <td>M8Y</td>\n      <td>Etobicoke</td>\n      <td>Humber Bay, King's Mill Park, Kingsway Park So...</td>\n    </tr>\n    <tr>\n      <th>102</th>\n      <td>M8Z</td>\n      <td>Etobicoke</td>\n      <td>Kingsway Park South West, Mimico NW, The Queen...</td>\n    </tr>\n  </tbody>\n</table>\n<p>103 rows \u00d7 3 columns</p>\n</div>", 
                        "text/plain": "    Postcode           Borough  \\\n0        M3A        North York   \n1        M4A        North York   \n2        M5A  Downtown Toronto   \n3        M6A        North York   \n4        M7A      Queen's Park   \n5        M9A         Etobicoke   \n6        M1B       Scarborough   \n7        M3B        North York   \n8        M4B         East York   \n9        M5B  Downtown Toronto   \n10       M6B        North York   \n11       M9B         Etobicoke   \n12       M1C       Scarborough   \n13       M3C        North York   \n14       M4C         East York   \n15       M5C  Downtown Toronto   \n16       M6C              York   \n17       M9C         Etobicoke   \n18       M1E       Scarborough   \n19       M4E      East Toronto   \n20       M5E  Downtown Toronto   \n21       M6E              York   \n22       M1G       Scarborough   \n23       M4G         East York   \n24       M5G  Downtown Toronto   \n25       M6G  Downtown Toronto   \n26       M1H       Scarborough   \n27       M2H        North York   \n28       M3H        North York   \n29       M4H         East York   \n..       ...               ...   \n73       M4R   Central Toronto   \n74       M5R   Central Toronto   \n75       M6R      West Toronto   \n76       M7R       Mississauga   \n77       M9R         Etobicoke   \n78       M1S       Scarborough   \n79       M4S   Central Toronto   \n80       M5S  Downtown Toronto   \n81       M6S      West Toronto   \n82       M1T       Scarborough   \n83       M4T   Central Toronto   \n84       M5T  Downtown Toronto   \n85       M1V       Scarborough   \n86       M4V   Central Toronto   \n87       M5V  Downtown Toronto   \n88       M8V         Etobicoke   \n89       M9V         Etobicoke   \n90       M1W       Scarborough   \n91       M4W  Downtown Toronto   \n92       M5W  Downtown Toronto   \n93       M8W         Etobicoke   \n94       M9W         Etobicoke   \n95       M1X       Scarborough   \n96       M4X  Downtown Toronto   \n97       M5X  Downtown Toronto   \n98       M8X         Etobicoke   \n99       M4Y  Downtown Toronto   \n100      M7Y      East Toronto   \n101      M8Y         Etobicoke   \n102      M8Z         Etobicoke   \n\n                                         Neighbourhood  \n0                                            Parkwoods  \n1                                     Victoria Village  \n2                            Harbourfront, Regent Park  \n3                     Lawrence Heights, Lawrence Manor  \n4                                         Not assigned  \n5                                     Islington Avenue  \n6                                       Rouge, Malvern  \n7                                      Don Mills North  \n8                      Woodbine Gardens, Parkview Hill  \n9                             Ryerson, Garden District  \n10                                           Glencairn  \n11   Cloverdale, Islington, Martin Grove, Princess ...  \n12              Highland Creek, Rouge Hill, Port Union  \n13                    Flemingdon Park, Don Mills South  \n14                                    Woodbine Heights  \n15                                      St. James Town  \n16                                  Humewood-Cedarvale  \n17   Bloordale Gardens, Eringate, Markland Wood, Ol...  \n18                   Guildwood, Morningside, West Hill  \n19                                         The Beaches  \n20                                         Berczy Park  \n21                                 Caledonia-Fairbanks  \n22                                              Woburn  \n23                                             Leaside  \n24                                  Central Bay Street  \n25                                            Christie  \n26                                           Cedarbrae  \n27                                   Hillcrest Village  \n28     Bathurst Manor, Downsview North, Wilson Heights  \n29                                    Thorncliffe Park  \n..                                                 ...  \n73                                  North Toronto West  \n74                 The Annex, North Midtown, Yorkville  \n75                              Parkdale, Roncesvalles  \n76               Canada Post Gateway Processing Centre  \n77   Kingsview Village, Martin Grove Gardens, Richv...  \n78                                           Agincourt  \n79                                          Davisville  \n80                      Harbord, University of Toronto  \n81                                  Runnymede, Swansea  \n82             Clarks Corners, Sullivan, Tam O'Shanter  \n83                         Moore Park, Summerhill East  \n84           Chinatown, Grange Park, Kensington Market  \n85   Agincourt North, L'Amoreaux East, Milliken, St...  \n86   Deer Park, Forest Hill SE, Rathnelly, South Hi...  \n87   CN Tower, Bathurst Quay, Island airport, Harbo...  \n88        Humber Bay Shores, Mimico South, New Toronto  \n89   Albion Gardens, Beaumond Heights, Humbergate, ...  \n90                                     L'Amoreaux West  \n91                                            Rosedale  \n92                     Stn A PO Boxes 25 The Esplanade  \n93                              Alderwood, Long Branch  \n94                                           Northwest  \n95                                         Upper Rouge  \n96                         Cabbagetown, St. James Town  \n97              First Canadian Place, Underground city  \n98       The Kingsway, Montgomery Road, Old Mill North  \n99                                Church and Wellesley  \n100  Business Reply Mail Processing Centre 969 Eastern  \n101  Humber Bay, King's Mill Park, Kingsway Park So...  \n102  Kingsway Park South West, Mimico NW, The Queen...  \n\n[103 rows x 3 columns]"
                    }, 
                    "output_type": "execute_result"
                }
            ], 
            "source": "df1"
        }, 
        {
            "execution_count": 21, 
            "cell_type": "code", 
            "metadata": {}, 
            "outputs": [
                {
                    "execution_count": 21, 
                    "metadata": {}, 
                    "data": {
                        "text/plain": "(103, 3)"
                    }, 
                    "output_type": "execute_result"
                }
            ], 
            "source": "df1.shape"
        }, 
        {
            "execution_count": null, 
            "cell_type": "code", 
            "metadata": {}, 
            "outputs": [], 
            "source": ""
        }
    ], 
    "metadata": {
        "kernelspec": {
            "display_name": "Python 3.5", 
            "name": "python3", 
            "language": "python"
        }, 
        "language_info": {
            "mimetype": "text/x-python", 
            "nbconvert_exporter": "python", 
            "version": "3.5.5", 
            "name": "python", 
            "file_extension": ".py", 
            "pygments_lexer": "ipython3", 
            "codemirror_mode": {
                "version": 3, 
                "name": "ipython"
            }
        }
    }, 
    "nbformat": 4
}